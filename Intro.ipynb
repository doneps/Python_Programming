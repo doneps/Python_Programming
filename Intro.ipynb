{
 "cells": [
  {
   "cell_type": "code",
   "execution_count": 1,
   "id": "151b5251-624b-4a7d-8fcd-76414f5360d1",
   "metadata": {},
   "outputs": [
    {
     "name": "stdout",
     "output_type": "stream",
     "text": [
      "Hello, World!\n"
     ]
    }
   ],
   "source": [
    "print(\"Hello, World!\")"
   ]
  },
  {
   "cell_type": "code",
   "execution_count": 13,
   "id": "0998a74a-9c61-439c-b2f5-37a0672e97ea",
   "metadata": {},
   "outputs": [
    {
     "name": "stdout",
     "output_type": "stream",
     "text": [
      "Hello is 18  yrs old.\n"
     ]
    }
   ],
   "source": [
    "age = 18\n",
    "name = \"Hello\"\n",
    "print(f\"{name} is {age}  yrs old.\")"
   ]
  },
  {
   "cell_type": "code",
   "execution_count": 15,
   "id": "e30f9559-0b61-4b84-a3dd-81ed528bae53",
   "metadata": {},
   "outputs": [
    {
     "data": {
      "text/plain": [
       "5"
      ]
     },
     "execution_count": 15,
     "metadata": {},
     "output_type": "execute_result"
    }
   ],
   "source": [
    "#Operators\n",
    "2+3"
   ]
  },
  {
   "cell_type": "code",
   "execution_count": 17,
   "id": "96b76811-5465-439c-88a0-e26830862440",
   "metadata": {},
   "outputs": [
    {
     "data": {
      "text/plain": [
       "5"
      ]
     },
     "execution_count": 17,
     "metadata": {},
     "output_type": "execute_result"
    }
   ],
   "source": [
    "10-5"
   ]
  },
  {
   "cell_type": "code",
   "execution_count": 19,
   "id": "e98769df-cc02-4391-83d3-08af57a0d944",
   "metadata": {},
   "outputs": [
    {
     "data": {
      "text/plain": [
       "50"
      ]
     },
     "execution_count": 19,
     "metadata": {},
     "output_type": "execute_result"
    }
   ],
   "source": [
    "10 * 5"
   ]
  },
  {
   "cell_type": "code",
   "execution_count": 21,
   "id": "4db0b865-edf5-4ec6-ae8a-5721893331b2",
   "metadata": {},
   "outputs": [
    {
     "data": {
      "text/plain": [
       "9"
      ]
     },
     "execution_count": 21,
     "metadata": {},
     "output_type": "execute_result"
    }
   ],
   "source": [
    "3 ** 2"
   ]
  },
  {
   "cell_type": "code",
   "execution_count": 23,
   "id": "ab511f03-3cd6-46c5-a1a5-1d76fc197840",
   "metadata": {},
   "outputs": [
    {
     "data": {
      "text/plain": [
       "2.0"
      ]
     },
     "execution_count": 23,
     "metadata": {},
     "output_type": "execute_result"
    }
   ],
   "source": [
    "10 / 5"
   ]
  },
  {
   "cell_type": "code",
   "execution_count": 25,
   "id": "8ddbe6b7-160d-4159-a170-16dd6fdd901e",
   "metadata": {},
   "outputs": [
    {
     "data": {
      "text/plain": [
       "2"
      ]
     },
     "execution_count": 25,
     "metadata": {},
     "output_type": "execute_result"
    }
   ],
   "source": [
    "10 // 5"
   ]
  },
  {
   "cell_type": "code",
   "execution_count": null,
   "id": "8a166e5d-26e3-4e4f-aae9-f0a1d76191f9",
   "metadata": {},
   "outputs": [],
   "source": [
    "# Work with String"
   ]
  },
  {
   "cell_type": "code",
   "execution_count": 27,
   "id": "a80b3877-9447-4e13-a4a6-f550388ec9fa",
   "metadata": {},
   "outputs": [
    {
     "data": {
      "text/plain": [
       "'Abc'"
      ]
     },
     "execution_count": 27,
     "metadata": {},
     "output_type": "execute_result"
    }
   ],
   "source": [
    "'Abc'"
   ]
  },
  {
   "cell_type": "code",
   "execution_count": 29,
   "id": "d6e80d90-8078-465f-b057-9e0744747cac",
   "metadata": {},
   "outputs": [
    {
     "data": {
      "text/plain": [
       "'Abc'"
      ]
     },
     "execution_count": 29,
     "metadata": {},
     "output_type": "execute_result"
    }
   ],
   "source": [
    "\"Abc\""
   ]
  },
  {
   "cell_type": "code",
   "execution_count": 31,
   "id": "49fea4fe-1055-4fe7-8962-17632c34b485",
   "metadata": {},
   "outputs": [
    {
     "data": {
      "text/plain": [
       "'Abc'"
      ]
     },
     "execution_count": 31,
     "metadata": {},
     "output_type": "execute_result"
    }
   ],
   "source": [
    "'''Abc'''"
   ]
  },
  {
   "cell_type": "code",
   "execution_count": null,
   "id": "e61523d7-83b9-4d05-9443-10ca969d4a26",
   "metadata": {},
   "outputs": [],
   "source": [
    "#variable"
   ]
  },
  {
   "cell_type": "code",
   "execution_count": 33,
   "id": "649f6446-cdc5-4b83-8aec-7c53963e83bf",
   "metadata": {},
   "outputs": [
    {
     "data": {
      "text/plain": [
       "5"
      ]
     },
     "execution_count": 33,
     "metadata": {},
     "output_type": "execute_result"
    }
   ],
   "source": [
    "v = 5 \n",
    "v\n"
   ]
  },
  {
   "cell_type": "code",
   "execution_count": 35,
   "id": "c3b8217f-81f6-490a-8b39-7c6c20a6ccd3",
   "metadata": {},
   "outputs": [
    {
     "data": {
      "text/plain": [
       "int"
      ]
     },
     "execution_count": 35,
     "metadata": {},
     "output_type": "execute_result"
    }
   ],
   "source": [
    "type(v)"
   ]
  },
  {
   "cell_type": "code",
   "execution_count": 37,
   "id": "f4daf16f-438e-494f-8e2d-9fe031b69c8f",
   "metadata": {},
   "outputs": [
    {
     "data": {
      "text/plain": [
       "'test'"
      ]
     },
     "execution_count": 37,
     "metadata": {},
     "output_type": "execute_result"
    }
   ],
   "source": [
    "v1 = 'test'\n",
    "v1"
   ]
  }
 ],
 "metadata": {
  "kernelspec": {
   "display_name": "\"Python/Mu (mu_venv-38-20220616-204112)\"",
   "language": "python",
   "name": "mu_venv-38-20220616-204112"
  },
  "language_info": {
   "codemirror_mode": {
    "name": "ipython",
    "version": 3
   },
   "file_extension": ".py",
   "mimetype": "text/x-python",
   "name": "python",
   "nbconvert_exporter": "python",
   "pygments_lexer": "ipython3",
   "version": "3.8.11"
  }
 },
 "nbformat": 4,
 "nbformat_minor": 5
}
