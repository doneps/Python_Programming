{
 "cells": [
  {
   "cell_type": "code",
   "execution_count": 5,
   "id": "5000ef97-4f85-4637-8dd2-a766212bffed",
   "metadata": {},
   "outputs": [],
   "source": [
    "import numpy as np"
   ]
  },
  {
   "cell_type": "code",
   "execution_count": 7,
   "id": "7753ca57-d57e-4e7d-b238-a96c52011dd5",
   "metadata": {},
   "outputs": [
    {
     "data": {
      "text/plain": [
       "'1.24.4'"
      ]
     },
     "execution_count": 7,
     "metadata": {},
     "output_type": "execute_result"
    }
   ],
   "source": [
    "np.__version__"
   ]
  },
  {
   "cell_type": "code",
   "execution_count": 9,
   "id": "bd48e3b4-d55c-4e78-802b-a2fec58570ea",
   "metadata": {},
   "outputs": [
    {
     "data": {
      "text/plain": [
       "'3.8.11 (default, Jul 24 2021, 23:33:17) [MSC v.1929 64 bit (AMD64)]'"
      ]
     },
     "execution_count": 9,
     "metadata": {},
     "output_type": "execute_result"
    }
   ],
   "source": [
    "import sys \n",
    "sys.version"
   ]
  },
  {
   "cell_type": "code",
   "execution_count": 11,
   "id": "9e04d091-c0c5-4210-96fd-3408dcfe9e94",
   "metadata": {},
   "outputs": [
    {
     "data": {
      "text/plain": [
       "[0, 1, 2, 3, 4, 5]"
      ]
     },
     "execution_count": 11,
     "metadata": {},
     "output_type": "execute_result"
    }
   ],
   "source": [
    "my_list = [0,1,2,3,4,5]\n",
    "my_list"
   ]
  },
  {
   "cell_type": "code",
   "execution_count": 13,
   "id": "c108ba51-0b1f-4322-beb2-1ad5fe888f2f",
   "metadata": {},
   "outputs": [
    {
     "data": {
      "text/plain": [
       "list"
      ]
     },
     "execution_count": 13,
     "metadata": {},
     "output_type": "execute_result"
    }
   ],
   "source": [
    "type(my_list)"
   ]
  },
  {
   "cell_type": "code",
   "execution_count": 15,
   "id": "4962a4d0-cc0c-4f32-8f34-828eee7cef4c",
   "metadata": {},
   "outputs": [],
   "source": [
    "arr = np.array(my_list) "
   ]
  },
  {
   "cell_type": "code",
   "execution_count": 17,
   "id": "b77d3250-e846-4783-b1b9-c7fa6c7b827c",
   "metadata": {},
   "outputs": [
    {
     "data": {
      "text/plain": [
       "array([0, 1, 2, 3, 4, 5])"
      ]
     },
     "execution_count": 17,
     "metadata": {},
     "output_type": "execute_result"
    }
   ],
   "source": [
    "arr"
   ]
  },
  {
   "cell_type": "code",
   "execution_count": 19,
   "id": "8a56b157-cafa-4c43-994e-f7df581611a2",
   "metadata": {},
   "outputs": [
    {
     "data": {
      "text/plain": [
       "numpy.ndarray"
      ]
     },
     "execution_count": 19,
     "metadata": {},
     "output_type": "execute_result"
    }
   ],
   "source": [
    "type(arr)"
   ]
  },
  {
   "cell_type": "code",
   "execution_count": 21,
   "id": "6233bc0f-ef81-4830-8f49-3bdc5a2f1e94",
   "metadata": {},
   "outputs": [
    {
     "data": {
      "text/plain": [
       "list"
      ]
     },
     "execution_count": 21,
     "metadata": {},
     "output_type": "execute_result"
    }
   ],
   "source": [
    "type(my_list)"
   ]
  },
  {
   "cell_type": "code",
   "execution_count": 23,
   "id": "a76ec0e9-ca37-40a4-bab6-6ba5f9119dd7",
   "metadata": {},
   "outputs": [
    {
     "data": {
      "text/plain": [
       "array([ 0,  1,  2,  3,  4,  5,  6,  7,  8,  9, 10, 11, 12, 13, 14])"
      ]
     },
     "execution_count": 23,
     "metadata": {},
     "output_type": "execute_result"
    }
   ],
   "source": [
    "np.arange(15) "
   ]
  },
  {
   "cell_type": "code",
   "execution_count": 25,
   "id": "3d8b0cfb-77c7-40b7-8bbd-8c7991da1e94",
   "metadata": {},
   "outputs": [
    {
     "data": {
      "text/plain": [
       "array([0., 1., 2.])"
      ]
     },
     "execution_count": 25,
     "metadata": {},
     "output_type": "execute_result"
    }
   ],
   "source": [
    "np.arange(3.0)  "
   ]
  },
  {
   "cell_type": "code",
   "execution_count": 27,
   "id": "a6836d6f-02b6-4152-a68d-14b137b6a808",
   "metadata": {},
   "outputs": [
    {
     "data": {
      "text/plain": [
       "array([0, 1, 2, 3, 4, 5, 6, 7, 8, 9])"
      ]
     },
     "execution_count": 27,
     "metadata": {},
     "output_type": "execute_result"
    }
   ],
   "source": [
    "np.arange(10)"
   ]
  },
  {
   "cell_type": "code",
   "execution_count": 29,
   "id": "89fc4541-183f-4a50-94de-7c44f03082de",
   "metadata": {},
   "outputs": [
    {
     "data": {
      "text/plain": [
       "array([0, 1, 2, 3, 4])"
      ]
     },
     "execution_count": 29,
     "metadata": {},
     "output_type": "execute_result"
    }
   ],
   "source": [
    "np.arange(0, 5)"
   ]
  },
  {
   "cell_type": "code",
   "execution_count": 31,
   "id": "7254eef8-d5f5-4e41-9dad-b6ee4d1dd056",
   "metadata": {},
   "outputs": [
    {
     "data": {
      "text/plain": [
       "array([10, 11, 12, 13, 14, 15, 16, 17, 18, 19])"
      ]
     },
     "execution_count": 31,
     "metadata": {},
     "output_type": "execute_result"
    }
   ],
   "source": [
    "np.arange(10,20) "
   ]
  },
  {
   "cell_type": "code",
   "execution_count": 33,
   "id": "ecb466a5-4372-42f9-8735-cd3bc8fa2ece",
   "metadata": {},
   "outputs": [
    {
     "data": {
      "text/plain": [
       "array([], dtype=int32)"
      ]
     },
     "execution_count": 33,
     "metadata": {},
     "output_type": "execute_result"
    }
   ],
   "source": [
    "np.arange(20,10)"
   ]
  },
  {
   "cell_type": "code",
   "execution_count": 35,
   "id": "2cf613b4-1dc7-4ed5-8f27-cf0a53baad33",
   "metadata": {},
   "outputs": [
    {
     "data": {
      "text/plain": [
       "array([-20, -19, -18, -17, -16, -15, -14, -13, -12, -11, -10,  -9,  -8,\n",
       "        -7,  -6,  -5,  -4,  -3,  -2,  -1,   0,   1,   2,   3,   4,   5,\n",
       "         6,   7,   8,   9])"
      ]
     },
     "execution_count": 35,
     "metadata": {},
     "output_type": "execute_result"
    }
   ],
   "source": [
    "np.arange(-20,10)"
   ]
  },
  {
   "cell_type": "code",
   "execution_count": 37,
   "id": "1b6ca762-006b-44ec-a657-8ed299b8e4d2",
   "metadata": {},
   "outputs": [
    {
     "data": {
      "text/plain": [
       "array([-16, -15, -14, -13, -12, -11, -10,  -9,  -8,  -7,  -6,  -5,  -4,\n",
       "        -3,  -2,  -1,   0,   1,   2,   3,   4,   5,   6,   7,   8,   9])"
      ]
     },
     "execution_count": 37,
     "metadata": {},
     "output_type": "execute_result"
    }
   ],
   "source": [
    "np.arange(-16,10) "
   ]
  },
  {
   "cell_type": "code",
   "execution_count": 39,
   "id": "f04615b3-e71d-4575-af35-a2bd307df66a",
   "metadata": {},
   "outputs": [
    {
     "data": {
      "text/plain": [
       "array([-20, -19, -18, -17, -16, -15, -14, -13, -12, -11])"
      ]
     },
     "execution_count": 39,
     "metadata": {},
     "output_type": "execute_result"
    }
   ],
   "source": [
    "np.arange(-20,-10) "
   ]
  },
  {
   "cell_type": "code",
   "execution_count": 41,
   "id": "e67b6f94-694b-4a60-ab66-58d1127f7a29",
   "metadata": {},
   "outputs": [
    {
     "data": {
      "text/plain": [
       "array([], dtype=int32)"
      ]
     },
     "execution_count": 41,
     "metadata": {},
     "output_type": "execute_result"
    }
   ],
   "source": [
    "np.arange(30,20)"
   ]
  },
  {
   "cell_type": "code",
   "execution_count": 43,
   "id": "717f5d53-a52a-40c6-a8e5-16567bc5a2ea",
   "metadata": {},
   "outputs": [
    {
     "data": {
      "text/plain": [
       "array([0., 0., 0.])"
      ]
     },
     "execution_count": 43,
     "metadata": {},
     "output_type": "execute_result"
    }
   ],
   "source": [
    "np.zeros(3)"
   ]
  },
  {
   "cell_type": "code",
   "execution_count": 45,
   "id": "3377a31c-f05b-4f75-893e-f284483e0774",
   "metadata": {},
   "outputs": [
    {
     "data": {
      "text/plain": [
       "array([0, 0, 0, 0, 0])"
      ]
     },
     "execution_count": 45,
     "metadata": {},
     "output_type": "execute_result"
    }
   ],
   "source": [
    "np.zeros(5, dtype=int)"
   ]
  },
  {
   "cell_type": "code",
   "execution_count": 47,
   "id": "d766c0d1-821a-42d0-b2a3-aca6a53e2906",
   "metadata": {},
   "outputs": [
    {
     "data": {
      "text/plain": [
       "array([[0, 0],\n",
       "       [0, 0]])"
      ]
     },
     "execution_count": 47,
     "metadata": {},
     "output_type": "execute_result"
    }
   ],
   "source": [
    "np.zeros((2,2), dtype=int)"
   ]
  },
  {
   "cell_type": "code",
   "execution_count": 49,
   "id": "c3f7f480-f3a8-4c38-9311-4dd6a7159534",
   "metadata": {},
   "outputs": [
    {
     "name": "stdout",
     "output_type": "stream",
     "text": [
      "[[0. 0.]\n",
      " [0. 0.]]\n",
      "<class 'numpy.ndarray'>\n"
     ]
    }
   ],
   "source": [
    "zero = np.zeros([2,2])\n",
    "print(zero)\n",
    "print(type(zero))"
   ]
  },
  {
   "cell_type": "code",
   "execution_count": 51,
   "id": "968a9069-880f-4f7e-add5-086c5a85c10a",
   "metadata": {},
   "outputs": [
    {
     "name": "stdout",
     "output_type": "stream",
     "text": [
      "[[0. 0.]\n",
      " [0. 0.]]\n",
      "####\n",
      "<class 'numpy.ndarray'>\n"
     ]
    }
   ],
   "source": [
    "zero = np.zeros([2,2])\n",
    "print(zero)\n",
    "\n",
    "print('####')\n",
    "\n",
    "print(type(zero))"
   ]
  },
  {
   "cell_type": "code",
   "execution_count": 53,
   "id": "a5120680-1b6c-43ab-b711-4044e5194675",
   "metadata": {},
   "outputs": [
    {
     "data": {
      "text/plain": [
       "range(0, 5)"
      ]
     },
     "execution_count": 53,
     "metadata": {},
     "output_type": "execute_result"
    }
   ],
   "source": [
    "range(5)"
   ]
  },
  {
   "cell_type": "code",
   "execution_count": 55,
   "id": "38dfac54-f363-4244-a9e4-c083e5c05023",
   "metadata": {},
   "outputs": [
    {
     "data": {
      "text/plain": [
       "range(0, 5)"
      ]
     },
     "execution_count": 55,
     "metadata": {},
     "output_type": "execute_result"
    }
   ],
   "source": [
    "r = range(5)\n",
    "r"
   ]
  },
  {
   "cell_type": "code",
   "execution_count": 57,
   "id": "abd958e6-1347-48c0-baaa-06fd2d8fc3ae",
   "metadata": {},
   "outputs": [
    {
     "name": "stdout",
     "output_type": "stream",
     "text": [
      "0\n",
      "1\n",
      "2\n",
      "3\n",
      "4\n"
     ]
    }
   ],
   "source": [
    "for i in r:\n",
    "    print(i)"
   ]
  },
  {
   "cell_type": "code",
   "execution_count": 59,
   "id": "f200233a-24df-4f2c-a36f-1e50090fa1dc",
   "metadata": {},
   "outputs": [
    {
     "data": {
      "text/plain": [
       "[1, 4, 7]"
      ]
     },
     "execution_count": 59,
     "metadata": {},
     "output_type": "execute_result"
    }
   ],
   "source": [
    "list(range(1,10,3))"
   ]
  },
  {
   "cell_type": "code",
   "execution_count": 61,
   "id": "8325f98f-b94a-4c41-9319-ee31e91002de",
   "metadata": {},
   "outputs": [
    {
     "data": {
      "text/plain": [
       "[0, 1, 2, 3, 4, 5, 6, 7, 8, 9, 10, 11]"
      ]
     },
     "execution_count": 61,
     "metadata": {},
     "output_type": "execute_result"
    }
   ],
   "source": [
    "y = list(range(12))\n",
    "y"
   ]
  },
  {
   "cell_type": "code",
   "execution_count": 63,
   "id": "1b1d1bf2-2db3-4f9f-a17e-8413df3e67ac",
   "metadata": {},
   "outputs": [
    {
     "data": {
      "text/plain": [
       "array([[17, 18, 16, 19],\n",
       "       [12, 18, 11, 11],\n",
       "       [19, 17, 12, 19],\n",
       "       [14, 11, 17, 17]])"
      ]
     },
     "execution_count": 63,
     "metadata": {},
     "output_type": "execute_result"
    }
   ],
   "source": [
    "np.random.randint(10,20,(4,4))"
   ]
  },
  {
   "cell_type": "code",
   "execution_count": 67,
   "id": "145d9bfe-8772-4769-9655-e83e5c496699",
   "metadata": {},
   "outputs": [
    {
     "data": {
      "text/plain": [
       "array([17, 18, 14, 14, 19, 19, 12, 14, 10, 11])"
      ]
     },
     "execution_count": 67,
     "metadata": {},
     "output_type": "execute_result"
    }
   ],
   "source": [
    "a = np.random.randint(10,20,10)\n",
    "a"
   ]
  },
  {
   "cell_type": "code",
   "execution_count": 69,
   "id": "20e4c876-b11e-46cc-b9ce-f05eea0788ef",
   "metadata": {},
   "outputs": [
    {
     "data": {
      "text/plain": [
       "1617921331920"
      ]
     },
     "execution_count": 69,
     "metadata": {},
     "output_type": "execute_result"
    }
   ],
   "source": [
    "id(a)"
   ]
  },
  {
   "cell_type": "code",
   "execution_count": 71,
   "id": "07cab07c-006e-4e53-8e54-d6ac61992952",
   "metadata": {},
   "outputs": [],
   "source": [
    "arr2 = np.random.randint(0,100,(10,10))"
   ]
  },
  {
   "cell_type": "code",
   "execution_count": 73,
   "id": "33af4239-1431-43ef-aab1-292c83370231",
   "metadata": {},
   "outputs": [
    {
     "data": {
      "text/plain": [
       "3.0"
      ]
     },
     "execution_count": 73,
     "metadata": {},
     "output_type": "execute_result"
    }
   ],
   "source": [
    "from numpy import *\n",
    "a = array([1,2,3,4,9])\n",
    "median(a)"
   ]
  },
  {
   "cell_type": "code",
   "execution_count": 75,
   "id": "f526b374-ac4a-4749-a066-f613a4f0388d",
   "metadata": {},
   "outputs": [
    {
     "data": {
      "text/plain": [
       "array([[0, 1],\n",
       "       [2, 3],\n",
       "       [4, 5]])"
      ]
     },
     "execution_count": 75,
     "metadata": {},
     "output_type": "execute_result"
    }
   ],
   "source": [
    "arr.reshape(3,2)  "
   ]
  },
  {
   "cell_type": "code",
   "execution_count": 77,
   "id": "74425e7e-e9f0-4d25-a229-5fd4036ca8fe",
   "metadata": {},
   "outputs": [
    {
     "data": {
      "text/plain": [
       "array([[0, 1, 2],\n",
       "       [3, 4, 5]])"
      ]
     },
     "execution_count": 77,
     "metadata": {},
     "output_type": "execute_result"
    }
   ],
   "source": [
    "arr.reshape(2,3,order='C')"
   ]
  },
  {
   "cell_type": "code",
   "execution_count": 81,
   "id": "dcb75905-7484-47f4-a1b4-c354c60728ef",
   "metadata": {},
   "outputs": [],
   "source": [
    "mat = np.arange(0,100).reshape(10,10) "
   ]
  },
  {
   "cell_type": "code",
   "execution_count": 85,
   "id": "cca281c5-652e-444a-ab29-7e1bff3476ab",
   "metadata": {},
   "outputs": [
    {
     "name": "stdout",
     "output_type": "stream",
     "text": [
      "Your OTP is: 5104\n"
     ]
    }
   ],
   "source": [
    "## To Generate OTP\n",
    "\n",
    "import random\n",
    "\n",
    "def generate_otp(length=4):\n",
    "    \"\"\"Generate a numeric OTP of a specified length.\"\"\"\n",
    "    digits = '012345'\n",
    "    otp = ''.join(random.choice(digits) for _ in range(length))\n",
    "    return otp\n",
    "\n",
    "otp_length = 4  # You can change this to any length you prefer\n",
    "otp = generate_otp(otp_length)\n",
    "print(f\"Your OTP is: {otp}\")"
   ]
  },
  {
   "cell_type": "code",
   "execution_count": 87,
   "id": "4885c62d-05f7-40ac-b8b0-1d4776c4e53f",
   "metadata": {},
   "outputs": [
    {
     "name": "stdout",
     "output_type": "stream",
     "text": [
      "good even\n",
      "good even\n",
      "good even\n"
     ]
    }
   ],
   "source": [
    "def wish():\n",
    "    print('good even')\n",
    "wish()\n",
    "\n",
    "def wish():\n",
    "    print('good even')\n",
    "wish()\n",
    "\n",
    "def wish():\n",
    "    print('good even')\n",
    "wish()"
   ]
  },
  {
   "cell_type": "code",
   "execution_count": 91,
   "id": "0279124c-e2cf-4a8f-817f-1a6bb05ba64f",
   "metadata": {},
   "outputs": [
    {
     "name": "stdout",
     "output_type": "stream",
     "text": [
      "Array a: [1 2 3]\n"
     ]
    }
   ],
   "source": [
    "# Create an array from a list\n",
    "a = np.array([1, 2, 3])\n",
    "print(\"Array a:\", a)"
   ]
  },
  {
   "cell_type": "code",
   "execution_count": 93,
   "id": "b325c511-8bdf-4fb3-b8cb-b1bf0c4d3e2e",
   "metadata": {},
   "outputs": [
    {
     "name": "stdout",
     "output_type": "stream",
     "text": [
      "Array b: [0 2 4 6 8]\n"
     ]
    }
   ],
   "source": [
    "# Create an array with evenly spaced values\n",
    "b = np.arange(0, 10, 2)  # Values from 0 to 10 with step 2\n",
    "print(\"Array b:\", b)"
   ]
  },
  {
   "cell_type": "code",
   "execution_count": 95,
   "id": "d4b6e843-35a3-4274-9ff6-218f95b49ade",
   "metadata": {},
   "outputs": [
    {
     "name": "stdout",
     "output_type": "stream",
     "text": [
      "Array c: [0.   0.25 0.5  0.75 1.  ]\n"
     ]
    }
   ],
   "source": [
    "# Create an array with linearly spaced values\n",
    "c = np.linspace(0, 1, 5)  # 5 values evenly spaced between 0 and 1\n",
    "print(\"Array c:\", c)"
   ]
  },
  {
   "cell_type": "code",
   "execution_count": 97,
   "id": "6d1b8c0f-ef9c-4937-9ac7-9b90d67b5a7a",
   "metadata": {},
   "outputs": [
    {
     "name": "stdout",
     "output_type": "stream",
     "text": [
      "Array d:\n",
      " [[0. 0. 0.]\n",
      " [0. 0. 0.]]\n"
     ]
    }
   ],
   "source": [
    "# Create an array filled with zeros\n",
    "d = np.zeros((2, 3))  # 2x3 array of zeros\n",
    "print(\"Array d:\\n\", d)"
   ]
  },
  {
   "cell_type": "code",
   "execution_count": 99,
   "id": "650b85ca-8c8a-4158-823c-cd0665978c3d",
   "metadata": {},
   "outputs": [
    {
     "name": "stdout",
     "output_type": "stream",
     "text": [
      "Identity matrix f:\n",
      " [[1. 0. 0. 0.]\n",
      " [0. 1. 0. 0.]\n",
      " [0. 0. 1. 0.]\n",
      " [0. 0. 0. 1.]]\n"
     ]
    }
   ],
   "source": [
    "# Create an identity matrix\n",
    "f = np.eye(4)  # 4x4 identity matrix\n",
    "print(\"Identity matrix f:\\n\", f)"
   ]
  },
  {
   "cell_type": "code",
   "execution_count": 101,
   "id": "78669c39-6a5d-450b-8083-823fcbac158e",
   "metadata": {},
   "outputs": [
    {
     "name": "stdout",
     "output_type": "stream",
     "text": [
      "Reshaped array: [[1 2 3]]\n"
     ]
    }
   ],
   "source": [
    "# Reshape an array\n",
    "a1 = np.array([1, 2, 3])\n",
    "reshaped = np.reshape(a1, (1, 3))  # Reshape to 1x3\n",
    "print(\"Reshaped array:\", reshaped)"
   ]
  },
  {
   "cell_type": "code",
   "execution_count": 103,
   "id": "eb691660-0969-43df-b3f9-bc772544d1d1",
   "metadata": {},
   "outputs": [
    {
     "name": "stdout",
     "output_type": "stream",
     "text": [
      "Flattened array: [1 2 3 4]\n"
     ]
    }
   ],
   "source": [
    "# Flatten an array\n",
    "f1 = np.array([[1, 2], [3, 4]])\n",
    "flattened = np.ravel(f1)  # Flatten to 1D array\n",
    "print(\"Flattened array:\", flattened)"
   ]
  },
  {
   "cell_type": "code",
   "execution_count": 105,
   "id": "e9f105d0-0f5e-47f7-862e-442c278ba5e4",
   "metadata": {},
   "outputs": [
    {
     "name": "stdout",
     "output_type": "stream",
     "text": [
      "Transposed array:\n",
      " [[1 3]\n",
      " [2 4]]\n"
     ]
    }
   ],
   "source": [
    "# Transpose an array\n",
    "e1 = np.array([[1, 2], [3, 4]])\n",
    "transposed = np.transpose(e1)  # Transpose the array\n",
    "print(\"Transposed array:\\n\", transposed)"
   ]
  },
  {
   "cell_type": "code",
   "execution_count": 107,
   "id": "c231a0ac-4ecc-49c4-b905-3ccce9ad6dd6",
   "metadata": {},
   "outputs": [
    {
     "name": "stdout",
     "output_type": "stream",
     "text": [
      "Stacked arrays:\n",
      " [[1 2]\n",
      " [3 4]]\n"
     ]
    }
   ],
   "source": [
    "# Stack arrays vertically\n",
    "a2 = np.array([1, 2])\n",
    "b2 = np.array([3, 4])\n",
    "stacked = np.vstack([a2, b2])  # Stack a and b vertically\n",
    "print(\"Stacked arrays:\\n\", stacked)"
   ]
  },
  {
   "cell_type": "code",
   "execution_count": 109,
   "id": "4afd1224-f096-4fee-83f9-a65ccd859fdf",
   "metadata": {},
   "outputs": [
    {
     "name": "stdout",
     "output_type": "stream",
     "text": [
      "Added 2 to g: [3 4 5 6]\n"
     ]
    }
   ],
   "source": [
    "# Add two arrays\n",
    "g = np.array([1, 2, 3, 4])\n",
    "added = np.add(g, 2)  # Add 2 to each element\n",
    "print(\"Added 2 to g:\", added)"
   ]
  },
  {
   "cell_type": "code",
   "execution_count": 111,
   "id": "65a1418c-7489-4164-a12b-e9b60357dd43",
   "metadata": {},
   "outputs": [
    {
     "name": "stdout",
     "output_type": "stream",
     "text": [
      "Squared g: [ 1  4  9 16]\n"
     ]
    }
   ],
   "source": [
    "# Square each element\n",
    "squared = np.power(g, 2)  # Square each element\n",
    "print(\"Squared g:\", squared)"
   ]
  },
  {
   "cell_type": "code",
   "execution_count": 113,
   "id": "7ee38646-708e-45a3-86fc-ef5c73589cb2",
   "metadata": {},
   "outputs": [
    {
     "name": "stdout",
     "output_type": "stream",
     "text": [
      "Square root of g: [1.         1.41421356 1.73205081 2.        ]\n"
     ]
    }
   ],
   "source": [
    "# Square root of each element\n",
    "sqrt_val = np.sqrt(g)  # Square root of each element\n",
    "print(\"Square root of g:\", sqrt_val)"
   ]
  },
  {
   "cell_type": "code",
   "execution_count": 115,
   "id": "55652713-d673-4d6b-8439-4d2198604c0b",
   "metadata": {},
   "outputs": [
    {
     "name": "stdout",
     "output_type": "stream",
     "text": [
      "Dot product of a1 and a: 14\n"
     ]
    }
   ],
   "source": [
    "a3 = np.array([1, 2, 3])\n",
    "dot_product = np.dot(a1, a)  # Dot product of a and g\n",
    "print(\"Dot product of a1 and a:\", dot_product)"
   ]
  },
  {
   "cell_type": "code",
   "execution_count": 117,
   "id": "680964a3-aa50-4ce5-baba-f2b302df11a4",
   "metadata": {},
   "outputs": [
    {
     "name": "stdout",
     "output_type": "stream",
     "text": [
      "Mean of s: 2.5\n"
     ]
    }
   ],
   "source": [
    "s = np.array([1, 2, 3, 4])\n",
    "mean = np.mean(s)\n",
    "print(\"Mean of s:\", mean)"
   ]
  },
  {
   "cell_type": "code",
   "execution_count": 119,
   "id": "8870c381-fa88-467a-af30-129242b65258",
   "metadata": {},
   "outputs": [
    {
     "name": "stdout",
     "output_type": "stream",
     "text": [
      "Standard deviation of s: 1.118033988749895\n"
     ]
    }
   ],
   "source": [
    "# Standard deviation of an array\n",
    "std_dev = np.std(s)\n",
    "print(\"Standard deviation of s:\", std_dev)"
   ]
  },
  {
   "cell_type": "code",
   "execution_count": 131,
   "id": "fabfbfe8-d965-4e47-b6af-0cab5586ae0e",
   "metadata": {},
   "outputs": [
    {
     "name": "stdout",
     "output_type": "stream",
     "text": [
      "Min of s: 1\n"
     ]
    }
   ],
   "source": [
    "# Minimum element of an array\n",
    "minimum = np.min(s)\n",
    "print(\"Min of s:\", minimum)"
   ]
  },
  {
   "cell_type": "code",
   "execution_count": 123,
   "id": "8660338a-1c93-49f0-b2d7-1f76e28f9639",
   "metadata": {},
   "outputs": [
    {
     "name": "stdout",
     "output_type": "stream",
     "text": [
      "Max of s: 4\n"
     ]
    }
   ],
   "source": [
    "# Maximum element of an array\n",
    "maximum = np.max(s)\n",
    "print(\"Max of s:\", maximum)"
   ]
  },
  {
   "cell_type": "code",
   "execution_count": 125,
   "id": "679df626-be30-4971-a33c-6cc1766aaa6c",
   "metadata": {},
   "outputs": [],
   "source": [
    "# Create a matrix\n",
    "matrix = np.array([[1, 2], [3, 4]])"
   ]
  },
  {
   "cell_type": "code",
   "execution_count": 127,
   "id": "0f8ddce7-2432-4071-acf2-e58010baca89",
   "metadata": {},
   "outputs": [
    {
     "name": "stdout",
     "output_type": "stream",
     "text": [
      "Determinant of matrix: -2.0000000000000004\n"
     ]
    }
   ],
   "source": [
    "# Determinant of a matrix\n",
    "determinant = np.linalg.det(matrix)\n",
    "print(\"Determinant of matrix:\", determinant)"
   ]
  },
  {
   "cell_type": "code",
   "execution_count": 129,
   "id": "66b1c4f2-30a6-4c21-b00a-63447562a24f",
   "metadata": {},
   "outputs": [
    {
     "name": "stdout",
     "output_type": "stream",
     "text": [
      "Inverse of matrix:\n",
      " [[-2.   1. ]\n",
      " [ 1.5 -0.5]]\n"
     ]
    }
   ],
   "source": [
    "# Inverse of a matrix\n",
    "inverse = np.linalg.inv(matrix)\n",
    "print(\"Inverse of matrix:\\n\", inverse)"
   ]
  },
  {
   "cell_type": "code",
   "execution_count": 133,
   "id": "49cb3b93-ab0b-4991-8313-95670e7dd6bd",
   "metadata": {},
   "outputs": [
    {
     "name": "stdout",
     "output_type": "stream",
     "text": [
      "Random values: [0.31071904 0.6310814  0.13201528]\n"
     ]
    }
   ],
   "source": [
    "# Generate random values between 0 and 1\n",
    "random_vals = np.random.rand(3)  # Array of 3 random values between 0 and 1\n",
    "print(\"Random values:\", random_vals)"
   ]
  },
  {
   "cell_type": "code",
   "execution_count": null,
   "id": "5dec1e8c-3d6a-440d-8c19-4a07d981f696",
   "metadata": {},
   "outputs": [],
   "source": [
    "# Set seed for reproducibility\n",
    "np.random.seed(0)\n",
    "\n",
    "# Generate random values between 0 and 1\n",
    "random_vals = np.random.rand(3)  # Array of 3 random values between 0 and 1\n",
    "print(\"Random values:\", random_vals)"
   ]
  },
  {
   "cell_type": "code",
   "execution_count": 135,
   "id": "338f96ab-6854-4718-b048-bd0739490c13",
   "metadata": {},
   "outputs": [
    {
     "name": "stdout",
     "output_type": "stream",
     "text": [
      "All elements True: False\n"
     ]
    }
   ],
   "source": [
    "# Check if all elements are True\n",
    "# all\n",
    "logical_test = np.array([True, False, True])\n",
    "all_true = np.all(logical_test)  # Check if all are True\n",
    "print(\"All elements True:\", all_true)"
   ]
  },
  {
   "cell_type": "code",
   "execution_count": 137,
   "id": "c2eb5a57-e6ef-400b-ad5e-29c00faa8912",
   "metadata": {},
   "outputs": [
    {
     "name": "stdout",
     "output_type": "stream",
     "text": [
      "All elements True: False\n"
     ]
    }
   ],
   "source": [
    "# Check if all elements are True\n",
    "logical_test = np.array([True, False, True])\n",
    "all_true = np.all(logical_test)  # Check if all are True\n",
    "print(\"All elements True:\", all_true)"
   ]
  },
  {
   "cell_type": "code",
   "execution_count": 139,
   "id": "f35a1346-692c-4418-a032-120932398d9c",
   "metadata": {},
   "outputs": [
    {
     "name": "stdout",
     "output_type": "stream",
     "text": [
      "All elements True: False\n"
     ]
    }
   ],
   "source": [
    "# Check if all elements are True\n",
    "logical_test = np.array([False, False, False])\n",
    "all_true = np.all(logical_test)  # Check if all are True\n",
    "print(\"All elements True:\", all_true)"
   ]
  },
  {
   "cell_type": "code",
   "execution_count": 141,
   "id": "da47944b-522e-43d1-a86f-c87b467b65c5",
   "metadata": {},
   "outputs": [
    {
     "name": "stdout",
     "output_type": "stream",
     "text": [
      "Any elements True: False\n"
     ]
    }
   ],
   "source": [
    "# Check if any elements are True\n",
    "# any\n",
    "any_true = np.any(logical_test)  # Check if any are True\n",
    "print(\"Any elements True:\", any_true)"
   ]
  },
  {
   "cell_type": "code",
   "execution_count": null,
   "id": "dc9fc2f8-b588-46ff-a918-dfa87bc734ca",
   "metadata": {},
   "outputs": [],
   "source": []
  }
 ],
 "metadata": {
  "kernelspec": {
   "display_name": "\"Python/Mu (mu_venv-38-20220616-204112)\"",
   "language": "python",
   "name": "mu_venv-38-20220616-204112"
  },
  "language_info": {
   "codemirror_mode": {
    "name": "ipython",
    "version": 3
   },
   "file_extension": ".py",
   "mimetype": "text/x-python",
   "name": "python",
   "nbconvert_exporter": "python",
   "pygments_lexer": "ipython3",
   "version": "3.8.11"
  }
 },
 "nbformat": 4,
 "nbformat_minor": 5
}
